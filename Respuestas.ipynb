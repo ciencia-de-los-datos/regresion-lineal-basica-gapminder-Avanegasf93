{
 "cells": [
  {
   "cell_type": "code",
   "execution_count": 2,
   "metadata": {},
   "outputs": [],
   "source": [
    "import numpy as np\n",
    "import pandas as pd"
   ]
  },
  {
   "cell_type": "code",
   "execution_count": 3,
   "metadata": {},
   "outputs": [
    {
     "name": "stdout",
     "output_type": "stream",
     "text": [
      "(139,)\n",
      "(139,)\n",
      "(139, 1)\n",
      "(139, 1)\n"
     ]
    }
   ],
   "source": [
    "def pregunta_01():\n",
    "    \"\"\"\n",
    "    En este punto se realiza la lectura de conjuntos de datos.\n",
    "    Complete el código presentado a continuación.\n",
    "    \"\"\"\n",
    "    # Lea el archivo `gm_2008_region.csv` y asignelo al DataFrame `df`\n",
    "    df = pd.read_csv(\"gm_2008_region.csv\",sep=\",\",thousands=None,decimal=\".\")\n",
    "\n",
    "    # Asigne la columna \"life\" a `y` y la columna \"fertility\" a `X`\n",
    "    y = df[\"life\"].values\n",
    "    X = df[\"fertility\"].values\n",
    "\n",
    "    # Imprima las dimensiones de `y`\n",
    "    print(np.shape(y))\n",
    "\n",
    "    # Imprima las dimensiones de `X`\n",
    "    print(np.shape(X))\n",
    "\n",
    "    # Transforme `y` a un array de numpy usando reshape\n",
    "    y_reshaped =  y.reshape(y.size, 1)\n",
    "\n",
    "    # Trasforme `X` a un array de numpy usando reshape\n",
    "    X_reshaped = X.reshape(X.size, 1)\n",
    "\n",
    "    # Imprima las nuevas dimensiones de `y`\n",
    "    print(np.shape(y_reshaped))\n",
    "\n",
    "    # Imprima las nuevas dimensiones de `X`\n",
    "    print(np.shape(X_reshaped))\n",
    "\n",
    "pregunta_01()"
   ]
  },
  {
   "cell_type": "code",
   "execution_count": 4,
   "metadata": {},
   "outputs": [
    {
     "name": "stdout",
     "output_type": "stream",
     "text": [
      "(139, 10)\n",
      "-0.7869\n",
      "69.6029\n",
      "<class 'pandas.core.series.Series'>\n",
      "0.629\n"
     ]
    }
   ],
   "source": [
    "def pregunta_02():\n",
    "    \"\"\"\n",
    "    En este punto se realiza la impresión de algunas estadísticas básicas\n",
    "    Complete el código presentado a continuación.\n",
    "    \"\"\"\n",
    "\n",
    "    # Lea el archivo `gm_2008_region.csv` y asignelo al DataFrame `df`\n",
    "    df = pd.read_csv(\"gm_2008_region.csv\",sep=\",\",thousands=None,decimal=\".\")\n",
    "\n",
    "    # Imprima las dimensiones del DataFrame\n",
    "    print(np.shape(df))\n",
    "\n",
    "    # Imprima la correlación entre las columnas `life` y `fertility` con 4 decimales.\n",
    "    print(df[\"life\"].corr(df[\"fertility\"]).round(4))\n",
    "\n",
    "    # Imprima la media de la columna `life` con 4 decimales.\n",
    "    print((df[\"life\"]).mean().round(4))\n",
    "\n",
    "    # Imprima el tipo de dato de la columna `fertility`.\n",
    "    print(type(df[\"fertility\"]))\n",
    "\n",
    "    # Imprima la correlación entre las columnas `GDP` y `life` con 4 decimales.\n",
    "    print(df[\"GDP\"].corr(df[\"life\"]).round(4))\n",
    "\n",
    "pregunta_02()"
   ]
  },
  {
   "cell_type": "code",
   "execution_count": 5,
   "metadata": {},
   "outputs": [
    {
     "name": "stdout",
     "output_type": "stream",
     "text": [
      "0.6192\n"
     ]
    }
   ],
   "source": [
    "def pregunta_03():\n",
    "    \"\"\"\n",
    "    Entrenamiento del modelo sobre todo el conjunto de datos.\n",
    "    Complete el código presentado a continuación.\n",
    "    \"\"\"\n",
    "\n",
    "    # Lea el archivo `gm_2008_region.csv` y asignelo al DataFrame `df`\n",
    "    df =  pd.read_csv(\"gm_2008_region.csv\",sep=\",\",thousands=None,decimal=\".\")\n",
    "\n",
    "    # Asigne a la variable los valores de la columna `fertility`\n",
    "    X_fertility = df[\"fertility\"].values.reshape(-1,1)\n",
    "\n",
    "    # Asigne a la variable los valores de la columna `life`\n",
    "    y_life = df[\"life\"].values.reshape(-1,1)\n",
    "\n",
    "    # Importe LinearRegression\n",
    "    from sklearn.linear_model import LinearRegression\n",
    "\n",
    "    # Cree una instancia del modelo de regresión lineal\n",
    "    reg = LinearRegression()\n",
    "\n",
    "    # Cree El espacio de predicción. Esto es, use linspace para crear\n",
    "    # un vector con valores entre el máximo y el mínimo de X_fertility\n",
    "    prediction_space = np.linspace(\n",
    "         X_fertility.min(),\n",
    "         X_fertility.max(),\n",
    "    ).reshape(-1, 1)\n",
    "\n",
    "    # Entrene el modelo usando X_fertility y y_life\n",
    "    reg.fit(X_fertility, y_life)\n",
    "\n",
    "    # Compute las predicciones para el espacio de predicción\n",
    "    y_pred = reg.predict(prediction_space)\n",
    "\n",
    "    # Imprima el R^2 del modelo con 4 decimales\n",
    "    print(reg.score(X_fertility, y_life).round(4))\n",
    "\n",
    "pregunta_03()"
   ]
  },
  {
   "cell_type": "code",
   "execution_count": 8,
   "metadata": {},
   "outputs": [
    {
     "name": "stdout",
     "output_type": "stream",
     "text": [
      "R^2: 0.6880\n",
      "Root Mean Squared Error: 4.7154\n"
     ]
    }
   ],
   "source": [
    "def pregunta_04():\n",
    "    \"\"\"\n",
    "    Particionamiento del conjunto de datos usando train_test_split.\n",
    "    Complete el código presentado a continuación.\n",
    "    \"\"\"\n",
    "\n",
    "    # Importe LinearRegression\n",
    "    # Importe train_test_split\n",
    "    # Importe mean_squared_error\n",
    "    from sklearn.linear_model import LinearRegression\n",
    "    from sklearn.model_selection import train_test_split\n",
    "    from sklearn.metrics import mean_squared_error\n",
    "\n",
    "    # Lea el archivo `gm_2008_region.csv` y asignelo al DataFrame `df`\n",
    "    df = pd.read_csv(\"gm_2008_region.csv\",sep=\",\",thousands=None,decimal=\".\")\n",
    "\n",
    "    # Asigne a la variable los valores de la columna `fertility`\n",
    "    X_fertility = df[\"fertility\"].values.reshape(-1,1)\n",
    "\n",
    "    # Asigne a la variable los valores de la columna `life`\n",
    "    y_life = df[\"life\"].values.reshape(-1,1)\n",
    "\n",
    "    # Divida los datos de entrenamiento y prueba. La semilla del generador de números\n",
    "    # aleatorios es 53. El tamaño de la muestra de entrenamiento es del 80%\n",
    "    (X_train, X_test, y_train, y_test,) = train_test_split(\n",
    "        X_fertility,\n",
    "        y_life,\n",
    "        test_size=0.2,\n",
    "        random_state=53,\n",
    "    )\n",
    "\n",
    "    # Cree una instancia del modelo de regresión lineal\n",
    "    linearRegression = LinearRegression()\n",
    "\n",
    "    # Entrene el clasificador usando X_train y y_train\n",
    "    linearRegression.fit(X_train, y_train)\n",
    "\n",
    "    # Pronostique y_test usando X_test\n",
    "    y_pred = linearRegression.predict(X_test)\n",
    "\n",
    "    # Compute and print R^2 and RMSE\n",
    "    print(\"R^2: {:6.4f}\".format(linearRegression.score(X_test, y_test)))\n",
    "    rmse = np.sqrt(mean_squared_error(y_test, y_pred))\n",
    "    print(\"Root Mean Squared Error: {:6.4f}\".format(rmse))\n",
    "\n",
    "\n",
    "pregunta_04()"
   ]
  }
 ],
 "metadata": {
  "kernelspec": {
   "display_name": "Python 3.11.0 64-bit",
   "language": "python",
   "name": "python3"
  },
  "language_info": {
   "codemirror_mode": {
    "name": "ipython",
    "version": 3
   },
   "file_extension": ".py",
   "mimetype": "text/x-python",
   "name": "python",
   "nbconvert_exporter": "python",
   "pygments_lexer": "ipython3",
   "version": "3.11.0"
  },
  "orig_nbformat": 4,
  "vscode": {
   "interpreter": {
    "hash": "a50104b0332e12837e12e442860665aba4962bda19f2ef115e6758855a0d3565"
   }
  }
 },
 "nbformat": 4,
 "nbformat_minor": 2
}
